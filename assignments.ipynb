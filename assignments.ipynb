{
 "cells": [
  {
   "cell_type": "markdown",
   "id": "62752fc7",
   "metadata": {},
   "source": [
    "TASK 1"
   ]
  },
  {
   "cell_type": "code",
   "execution_count": null,
   "id": "6a7462e3",
   "metadata": {},
   "outputs": [
    {
     "name": "stdout",
     "output_type": "stream",
     "text": [
      "Username : jadjad_0202\n",
      "Domain : hotmail\n",
      "Domain Type : Commercial Domain\n"
     ]
    }
   ],
   "source": [
    "your_email =  input (\"enter your email\")\n",
    "a= your_email.index(\"@\")\n",
    "b= your_email.index(\".\",a+1)\n",
    "c= your_email[b+1:]\n",
    "\n",
    "print (\"Username :\", your_email[:a])\n",
    "print (\"Domain :\", your_email[a+1:b])\n",
    "\n",
    "if c == \"com\" : print(\"Domain Type : Commercial Domain\")\n",
    "elif c == \"edu\" : print(\"Domain Type : Educational Domain\")\n",
    "else : print(\"Domain Type : Other Domain\")"
   ]
  },
  {
   "cell_type": "markdown",
   "id": "ad15c3b8",
   "metadata": {},
   "source": [
    "TASK 2"
   ]
  },
  {
   "cell_type": "code",
   "execution_count": 16,
   "id": "8a4ef381",
   "metadata": {},
   "outputs": [
    {
     "name": "stdout",
     "output_type": "stream",
     "text": [
      "core part of the message : mocleW\n"
     ]
    }
   ],
   "source": [
    "code = \"###!!@mocleW EPGTQ!!!6789\"\n",
    "a= code.index(\"@\")\n",
    "b= code.index(\" \",a+1)\n",
    "\n",
    "print (\"core part of the message :\", code[a+1:b])"
   ]
  }
 ],
 "metadata": {
  "kernelspec": {
   "display_name": "Python 3",
   "language": "python",
   "name": "python3"
  },
  "language_info": {
   "codemirror_mode": {
    "name": "ipython",
    "version": 3
   },
   "file_extension": ".py",
   "mimetype": "text/x-python",
   "name": "python",
   "nbconvert_exporter": "python",
   "pygments_lexer": "ipython3",
   "version": "3.12.9"
  }
 },
 "nbformat": 4,
 "nbformat_minor": 5
}
