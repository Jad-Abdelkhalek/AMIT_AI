{
 "cells": [
  {
   "cell_type": "code",
   "execution_count": null,
   "id": "1bbf7efa",
   "metadata": {},
   "outputs": [
    {
     "name": "stdout",
     "output_type": "stream",
     "text": [
      "hello\n"
     ]
    }
   ],
   "source": [
    "print (\"hello\")"
   ]
  },
  {
   "cell_type": "code",
   "execution_count": null,
   "id": "4ffbaeee",
   "metadata": {},
   "outputs": [],
   "source": [
    "'''\n",
    " \n",
    "'''"
   ]
  },
  {
   "cell_type": "code",
   "execution_count": null,
   "id": "efa180cd",
   "metadata": {},
   "outputs": [
    {
     "data": {
      "text/plain": [
       "'0x7fff42c4ea38'"
      ]
     },
     "execution_count": 2,
     "metadata": {},
     "output_type": "execute_result"
    }
   ],
   "source": [
    "x =5\n",
    "y =2\n",
    "hex(id(x))"
   ]
  },
  {
   "cell_type": "code",
   "execution_count": 3,
   "id": "a07b80f8",
   "metadata": {},
   "outputs": [
    {
     "data": {
      "text/plain": [
       "int"
      ]
     },
     "execution_count": 3,
     "metadata": {},
     "output_type": "execute_result"
    }
   ],
   "source": [
    "type(x)"
   ]
  },
  {
   "cell_type": "code",
   "execution_count": null,
   "id": "7b4f7fca",
   "metadata": {},
   "outputs": [
    {
     "name": "stdout",
     "output_type": "stream",
     "text": [
      "my name is Jad, my age is 39\n"
     ]
    }
   ],
   "source": [
    "std_name =  \"Jad\"\n",
    "std_age =  39\n",
    "print (\"my name is {0}, my age is {1}\".format(std_name,std_age))"
   ]
  },
  {
   "cell_type": "code",
   "execution_count": 18,
   "id": "89d6fe76",
   "metadata": {},
   "outputs": [
    {
     "data": {
      "text/plain": [
       "str"
      ]
     },
     "execution_count": 18,
     "metadata": {},
     "output_type": "execute_result"
    }
   ],
   "source": [
    "x =\"jad\"\n",
    "type(x)"
   ]
  },
  {
   "cell_type": "code",
   "execution_count": 20,
   "id": "6d95131c",
   "metadata": {},
   "outputs": [
    {
     "name": "stdout",
     "output_type": "stream",
     "text": [
      "my name is jad, my age is 55\n"
     ]
    }
   ],
   "source": [
    "\n",
    "std_name =  input (\"enter your name\")\n",
    "std_age = int (input (\"enter your age\"))\n",
    "print (\"my name is {0}, my age is {1}\".format(std_name,std_age))"
   ]
  },
  {
   "cell_type": "code",
   "execution_count": 22,
   "id": "f8dc5638",
   "metadata": {},
   "outputs": [
    {
     "name": "stdout",
     "output_type": "stream",
     "text": [
      "my name is Jad_Abdelkhalek, and Iam 39 years old, Iam engaged in learning AI Course\n"
     ]
    }
   ],
   "source": [
    "std_name =  \"Jad_Abdelkhalek\"\n",
    "std_age =  39\n",
    "std_course_name =  \"AI Course\"\n",
    "print (\"my name is {0}, and Iam {1} years old, Iam engaged in learning {2}\".format(std_name,std_age,std_course_name))"
   ]
  },
  {
   "cell_type": "code",
   "execution_count": 24,
   "id": "3c82034a",
   "metadata": {},
   "outputs": [
    {
     "name": "stdout",
     "output_type": "stream",
     "text": [
      "amit\n"
     ]
    }
   ],
   "source": [
    "name =\"amit learning\"\n",
    "print (name[0:4:1])"
   ]
  },
  {
   "cell_type": "code",
   "execution_count": 43,
   "id": "ea4223fd",
   "metadata": {},
   "outputs": [
    {
     "data": {
      "text/plain": [
       "'amit'"
      ]
     },
     "execution_count": 43,
     "metadata": {},
     "output_type": "execute_result"
    }
   ],
   "source": [
    "name =\"amit learning\"\n",
    "name[-14:-9:1]"
   ]
  },
  {
   "cell_type": "code",
   "execution_count": 46,
   "id": "921c85ec",
   "metadata": {},
   "outputs": [
    {
     "name": "stdout",
     "output_type": "stream",
     "text": [
      "jad\n"
     ]
    }
   ],
   "source": [
    "x=\"JAD\"\n",
    "x=x.lower()\n",
    "print (x)"
   ]
  },
  {
   "cell_type": "code",
   "execution_count": 92,
   "id": "9686e06d",
   "metadata": {},
   "outputs": [
    {
     "name": "stdout",
     "output_type": "stream",
     "text": [
      "Username : jad\n",
      "Domain : hotmail\n",
      "Domain Type : Commercial Domain\n"
     ]
    }
   ],
   "source": [
    "your_email=  input (\"enter your email\")\n",
    "a= your_email.index(\"@\")\n",
    "b= your_email.index(\".\",a+1)\n",
    "c= your_email[b+1:]\n",
    "\n",
    "print (\"Username :\", your_email[:a])\n",
    "print (\"Domain :\", your_email[a+1:b])\n",
    "# print (\"Domain Type :\", your_email[b+1:])\n",
    "\n",
    "if c == \"com\":\n",
    "    print(\"Domain Type : Commercial Domain\")\n",
    "elif c== \"edu\":\n",
    "    print(\"Domain Type : Educational Domain\")\n",
    "else:\n",
    "    print(\"Domain Type : Other Domain\")\n"
   ]
  },
  {
   "cell_type": "code",
   "execution_count": null,
   "id": "307c05f0",
   "metadata": {},
   "outputs": [],
   "source": []
  },
  {
   "cell_type": "code",
   "execution_count": null,
   "id": "180730d4",
   "metadata": {},
   "outputs": [],
   "source": []
  },
  {
   "cell_type": "code",
   "execution_count": null,
   "id": "5ae4bbab",
   "metadata": {},
   "outputs": [],
   "source": []
  },
  {
   "cell_type": "code",
   "execution_count": null,
   "id": "17d36e06",
   "metadata": {},
   "outputs": [],
   "source": []
  }
 ],
 "metadata": {
  "kernelspec": {
   "display_name": "Python 3",
   "language": "python",
   "name": "python3"
  },
  "language_info": {
   "codemirror_mode": {
    "name": "ipython",
    "version": 3
   },
   "file_extension": ".py",
   "mimetype": "text/x-python",
   "name": "python",
   "nbconvert_exporter": "python",
   "pygments_lexer": "ipython3",
   "version": "3.12.9"
  }
 },
 "nbformat": 4,
 "nbformat_minor": 5
}
